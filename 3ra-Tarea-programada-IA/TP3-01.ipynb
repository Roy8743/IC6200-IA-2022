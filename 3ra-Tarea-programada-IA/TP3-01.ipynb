{
  "nbformat": 4,
  "nbformat_minor": 0,
  "metadata": {
    "colab": {
      "name": "TP3.ipynb",
      "provenance": []
    },
    "kernelspec": {
      "name": "python3",
      "display_name": "Python 3"
    },
    "language_info": {
      "name": "python"
    }
  },
  "cells": [
    {
      "cell_type": "markdown",
      "source": [
        "### Instituto Tecnológico de Costa Rica (ITCR)\n",
        "### Escuela de Computación\n",
        "### Curso: Inteligencia Artificial\n",
        " \n",
        "### Tercer tarea programada 2022-I\n",
        "\n",
        "Profesora: María Auxiliadora Mora"
      ],
      "metadata": {
        "id": "W8jj48PrsqlK"
      }
    },
    {
      "cell_type": "markdown",
      "source": [
        "\n",
        "#Estudiantes\n",
        "Roy Chavarría Garita - 2018034199 \\\n",
        "Jonder Hernández Gutiérrez - 2018203660\n",
        "\n",
        "\n"
      ],
      "metadata": {
        "id": "rY7oR8c7st8A"
      }
    },
    {
      "cell_type": "code",
      "source": [
        "#Bibliotecas\n",
        "from matplotlib import pyplot\n",
        "import numpy as np\n",
        "import math\n",
        "import matplotlib.pyplot as plt\n",
        "from math import e\n",
        "import torch\n",
        "import plotly.graph_objects as go\n",
        "\n",
        "from numpy import vstack\n",
        "from numpy import sqrt\n",
        "from numpy import array\n",
        "from pandas import read_csv, notnull\n",
        "\n",
        "# Pregunta 3\n",
        "  # Gráficas estadísticas\n",
        "import seaborn as sns\n",
        "import pandas as pd\n",
        "\n",
        "from sklearn.metrics import mean_squared_error\n",
        "from sklearn.preprocessing import MinMaxScaler\n",
        "\n",
        "from torch.utils.data import Dataset\n",
        "from torch.utils.data import DataLoader\n",
        "from torch.utils.data import random_split\n",
        "from torch import Tensor\n",
        "from torch.nn import Linear\n",
        "from torch.nn import Sigmoid\n",
        "from torch.nn import Module\n",
        "from torch.optim import SGD\n",
        "from torch.nn import MSELoss\n",
        "from torch.nn.init import xavier_uniform_\n",
        "\n",
        "#Graficar en 3d - pregunta #1\n",
        "from sympy import symbols\n",
        "from sympy.plotting import plot3d\n",
        "\n",
        "\n",
        "\n",
        "# Linear regression\n",
        "from sklearn.datasets import make_regression\n",
        "from sklearn.linear_model import LinearRegression"
      ],
      "metadata": {
        "id": "Dr--Z7tDs0CR"
      },
      "execution_count": null,
      "outputs": []
    }
  ]
}